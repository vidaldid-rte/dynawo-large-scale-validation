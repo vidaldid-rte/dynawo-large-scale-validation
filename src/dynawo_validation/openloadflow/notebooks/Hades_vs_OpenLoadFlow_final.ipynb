{
 "cells": [
  {
   "cell_type": "code",
   "execution_count": 1,
   "id": "50a13467",
   "metadata": {},
   "outputs": [
    {
     "name": "stdout",
     "output_type": "stream",
     "text": [
      "Warning: When  cdn_resources is 'local' jupyter notebook has issues displaying graphics on chrome/safari. Use cdn_resources='in_line' or cdn_resources='remote' if you have issues viewing graphics in a notebook.\n"
     ]
    },
    {
     "data": {
      "text/html": [
       "\n",
       "    <style>\n",
       "        div#notebook-container    { width: 95%; }\n",
       "        div#menubar-container     { width: 65%; }\n",
       "        div#maintoolbar-container { width: 99%; }\n",
       "    </style>\n",
       "    "
      ],
      "text/plain": [
       "<IPython.core.display.HTML object>"
      ]
     },
     "metadata": {},
     "output_type": "display_data"
    },
    {
     "data": {
      "text/markdown": [
       "# RESULTS SUMMARY\n",
       "  * Number of cases that exceed the MAX threshold: 0.0% (0 of 1)\n",
       "  * Number of cases that exceed the P95 threshold: 100.0% (1 of 1)\n",
       "  * Number of cases that exceed the MEAN threshold: 0.0% (0 of 1)\n"
      ],
      "text/plain": [
       "<IPython.core.display.Markdown object>"
      ]
     },
     "metadata": {},
     "output_type": "display_data"
    },
    {
     "data": {
      "text/markdown": [
       "# ANALYSIS OF DIFFERENCES BETWEEN Hades AND OpenLoadFlow"
      ],
      "text/plain": [
       "<IPython.core.display.Markdown object>"
      ]
     },
     "metadata": {},
     "output_type": "display_data"
    },
    {
     "data": {
      "text/markdown": [
       "## Configurable X-Y plot of PF solution diff metrics"
      ],
      "text/plain": [
       "<IPython.core.display.Markdown object>"
      ]
     },
     "metadata": {},
     "output_type": "display_data"
    },
    {
     "data": {
      "text/markdown": [
       "NOTE: In order to avoid performance problems in Plotly, the graph only shows a maximum of 10000 corresponding to the worst differences **according to the selected metric on the Y axis**."
      ],
      "text/plain": [
       "<IPython.core.display.Markdown object>"
      ]
     },
     "metadata": {},
     "output_type": "display_data"
    },
    {
     "data": {
      "application/vnd.jupyter.widget-view+json": {
       "model_id": "a3d80a3f7c504664bdc8e2eb9581fb6a",
       "version_major": 2,
       "version_minor": 0
      },
      "text/plain": [
       "HBox(children=(Dropdown(description='VOLT LEVEL', options=('DEFAULT', 'ALL', '20.0', '42.0', '63.0', '90.0', '…"
      ]
     },
     "metadata": {},
     "output_type": "display_data"
    },
    {
     "data": {
      "application/vnd.jupyter.widget-view+json": {
       "model_id": "056ce846446d40e4b7b3aa1b5a0e8b1f",
       "version_major": 2,
       "version_minor": 0
      },
      "text/plain": [
       "FigureWidget({\n",
       "    'data': [{'mode': 'markers',\n",
       "              'name': 'volt_level_v_p95',\n",
       "              'text': array(['myResult/basecase/pf_sol/olf_(ALL)',\n",
       "                             'myResult/basecase/pf_sol/olf_(20.0)',\n",
       "                             'myResult/basecase/pf_sol/olf_(42.0)',\n",
       "                             'myResult/basecase/pf_sol/olf_(63.0)',\n",
       "                             'myResult/basecase/pf_sol/olf_(90.0)',\n",
       "                             'myResult/basecase/pf_sol/olf_(150.0)',\n",
       "                             'myResult/basecase/pf_sol/olf_(225.0)',\n",
       "                             'myResult/basecase/pf_sol/olf_(380.0)'], dtype=object),\n",
       "              'type': 'scatter',\n",
       "              'uid': '2aba9020-d33e-4747-b085-33ac3e480251',\n",
       "              'x': array(['ALL', '20.0', '42.0', '63.0', '90.0', '150.0', '225.0', '380.0'],\n",
       "                         dtype=object),\n",
       "              'y': array([8.96841199e-04, 4.78575549e-05, 7.30485776e-06, 4.82613543e-04,\n",
       "                          9.28228234e-04, 1.38802940e-04, 1.04041809e-03, 9.00674510e-04])}],\n",
       "    'layout': {'height': 1000,\n",
       "               'template': '...',\n",
       "               'title': {'text': 'Global differences between Hades and simulator OpenLoadFlow'},\n",
       "               'width': 1200,\n",
       "               'xaxis': {'title': {'text': 'volt_level'}},\n",
       "               'yaxis': {'title': {'text': 'v_p95'}}}\n",
       "})"
      ]
     },
     "metadata": {},
     "output_type": "display_data"
    },
    {
     "data": {
      "text/markdown": [
       "## PF solution diff metrics"
      ],
      "text/plain": [
       "<IPython.core.display.Markdown object>"
      ]
     },
     "metadata": {},
     "output_type": "display_data"
    },
    {
     "data": {
      "application/vnd.jupyter.widget-view+json": {
       "model_id": "1830c620898d4ac6a316aeaaab284324",
       "version_major": 2,
       "version_minor": 0
      },
      "text/plain": [
       "HBox(children=(Dropdown(description='Metric type: ', options=('max', 'p95', 'mean', 'ALL'), value='max'), Togg…"
      ]
     },
     "metadata": {},
     "output_type": "display_data"
    },
    {
     "data": {
      "application/vnd.jupyter.widget-view+json": {
       "model_id": "668243c593a44c888a37f47ab3537a18",
       "version_major": 2,
       "version_minor": 0
      },
      "text/plain": [
       "DataGrid(auto_fit_params={'area': 'all', 'padding': 30, 'numCols': None}, base_column_size=105, corner_rendere…"
      ]
     },
     "metadata": {},
     "output_type": "display_data"
    },
    {
     "data": {
      "text/markdown": [
       "## Local topology (network graph around a chosen bus)"
      ],
      "text/plain": [
       "<IPython.core.display.Markdown object>"
      ]
     },
     "metadata": {},
     "output_type": "display_data"
    },
    {
     "data": {
      "application/vnd.jupyter.widget-view+json": {
       "model_id": "5891c57c30d44a3bb42038018c491a02",
       "version_major": 2,
       "version_minor": 0
      },
      "text/plain": [
       "HBox(children=(Dropdown(description='Node ID: ', options=('1LIMEP71', '1MAZUP71', '2LATEP71', '2MAZUP71', '3AR…"
      ]
     },
     "metadata": {},
     "output_type": "display_data"
    },
    {
     "name": "stdout",
     "output_type": "stream",
     "text": [
      "subgraph.html\n"
     ]
    },
    {
     "data": {
      "text/html": [
       "\n",
       "        <iframe\n",
       "            width=\"100%\"\n",
       "            height=\"600px\"\n",
       "            src=\"subgraph.html\"\n",
       "            frameborder=\"0\"\n",
       "            allowfullscreen\n",
       "            \n",
       "        ></iframe>\n",
       "        "
      ],
      "text/plain": [
       "<IPython.lib.display.IFrame at 0x7f91e1ba6100>"
      ]
     },
     "metadata": {},
     "output_type": "display_data"
    },
    {
     "name": "stdout",
     "output_type": "stream",
     "text": [
      "Node Legend - Edge Legend\n"
     ]
    },
    {
     "data": {
      "application/vnd.jupyter.widget-view+json": {
       "model_id": "c60ae3bf5ae84b95b832d28cf3f50613",
       "version_major": 2,
       "version_minor": 0
      },
      "text/plain": [
       "HBox(children=(Image(value=b'\\x89PNG\\r\\n\\x1a\\n\\x00\\x00\\x00\\rIHDR\\x00\\x00\\x03\\xe8\\x00\\x00\\x00\\xfa\\x08\\x06\\x00\\x…"
      ]
     },
     "metadata": {},
     "output_type": "display_data"
    },
    {
     "name": "stdout",
     "output_type": "stream",
     "text": [
      "If a node/edge is white, it means that the selected metric is not available for that node/edge.\n"
     ]
    }
   ],
   "source": [
    "#from dynawo_validation.openloadflow.notebooks.hades_vs_olf_code import run_all\n",
    "\n",
    "from hades_vs_olf_code import run_all\n",
    "\n",
    "# NOTE: Please provide the paths as absolute paths: ex.(/home/usr)\n",
    "RESULTS_DIR = \"/home/vidaldid/tmp/myResult/\"\n",
    "BASECASE = \"olf\"\n",
    "ELEMENTS = [\"shunt\", \"gen\", \"load\", \"branchB\", \"branchF\", \"branchT\"]\n",
    "# PREFIX = ELEMENTS[0]\n",
    "PREFIX = \"basecase\"\n",
    "PF_SOL_DIR = RESULTS_DIR + PREFIX\n",
    "DATA_LIMIT = 10000\n",
    "SUBGRAPH_TYPES = [0, 1]\n",
    "SUBGRAPH_TYPE = SUBGRAPH_TYPES[0]\n",
    "SUBGRAPH_VALUE = 4  # Number of layers for option 0 and maximum admittance for option 1\n",
    "HEIGHT = 1000  # Adapt as needed\n",
    "WIDTH = 1200  # but make sure that width > height\n",
    "# Weights to calculate the contingency score \n",
    "W_V = 0.5 \n",
    "W_P = 0.2\n",
    "W_Q = 0.1\n",
    "W_T = 0.3333333333333333\n",
    "# Thresholds that indicate whether a case passes or not \n",
    "MAX_THRESH = 25\n",
    "P95_THRESH = 0.005\n",
    "MEAN_THRESH = 0.05\n",
    "\n",
    "\n",
    "\n",
    "if True:\n",
    "    run_all(\n",
    "        RESULTS_DIR,\n",
    "        BASECASE,\n",
    "        ELEMENTS,\n",
    "        PREFIX,\n",
    "        PF_SOL_DIR,\n",
    "        DATA_LIMIT,\n",
    "        HEIGHT,\n",
    "        WIDTH,\n",
    "        SUBGRAPH_TYPE,\n",
    "        SUBGRAPH_VALUE,\n",
    "        W_V,\n",
    "        W_P,\n",
    "        W_Q,\n",
    "        W_T,\n",
    "        MAX_THRESH,\n",
    "        P95_THRESH,\n",
    "        MEAN_THRESH,\n",
    "    )"
   ]
  },
  {
   "cell_type": "markdown",
   "id": "12f397dc",
   "metadata": {},
   "source": [
    "## NOTEBOOK SUMMARY\n",
    "### NOTEBOOK CONFIGURATION\n",
    "Before running the notebook, we should confirm that the parameters that are automatically generated during the notebook creation based on contingencies, cases, and execution are the ones we are interested in. If not, we can modify them as we see fit to customize our notebook and get the necessary results. \n",
    "### RESULTS SUMMARY\n",
    "In this first section we can find a small summary where we can observe the cases that have exceeded the thresholds with respect to the total number of cases.\n",
    "### GLOBAL RANKING OF CONTINGENCY CASES\n",
    "In this part, we will see the scores obtained by the different contingencies. More severe contingencies have higher scores. In green, are colored those that do not exceed the threshold, in orange, those that exceed it by less than 25% and in red those that exceed it by more than 25%.\n",
    "### TAPS AND CONNECTION/DISCONNECTION EVENTS\n",
    "#### Aggregate tap changes and events per contingency case\n",
    "In this tables we observe each of the possible variables that can change in a contingency case and its summary of changes that have occurred with respect to the base case, which is shared by all.\n",
    "#### Tap values -- A vs. B\n",
    "This graph shows the differences in positions between case A and case B at the end of the simulations. \n",
    "#### Details of tap changes and other events\n",
    "Complementary table to the upper table where all the positions of the different taps are shown with respect to the base case. We normally filter them if they haven't changed. \n",
    "#### Timeline of events: clustering analysis\n",
    "Here one or two plots will be shown, depending on whether it is Hades vs. Dynawo or Dynawo vs. Dynawo, where we can see graphically the result that the timeline of the executions has given.\n",
    "### ANALYSIS OF DIFFERENCES BETWEEN A AND B\n",
    "#### Configurable X-Y plot of PF solution diff metrics\n",
    "In this plot we can observe the differences between the results of case A and case B depending on various variables, difference calculation metrics and voltage levels. \n",
    "#### PF solution diff metrics\n",
    "This grid shows the vast majority of values from the previous plot, which are more detailed and have more information.\n",
    "#### Configurable X-Y plot for all values of a given case\n",
    "After having observed the information above, in this part we can select a contingency and look at it in more detail, observing the local differences depending on the type of elements, variables, differences, errors... All fully configurable. \n",
    "#### All values of a given case\n",
    "This table shows the same values as the previous plot in more detail and gives us the option to filter and sort them. \n",
    "#### Local topology\n",
    "Finally, in order to be able to observe in perspective the position of the contingencies or the position of the problematic network components, in this section we draw subgraph of the general graph centered on the buses and its colors allow us to visualize various variables of these."
   ]
  }
 ],
 "metadata": {
  "kernelspec": {
   "display_name": "Python 3 (ipykernel)",
   "language": "python",
   "name": "python3"
  },
  "language_info": {
   "codemirror_mode": {
    "name": "ipython",
    "version": 3
   },
   "file_extension": ".py",
   "mimetype": "text/x-python",
   "name": "python",
   "nbconvert_exporter": "python",
   "pygments_lexer": "ipython3",
   "version": "3.8.10"
  }
 },
 "nbformat": 4,
 "nbformat_minor": 5
}
